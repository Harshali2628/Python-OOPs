{
  "nbformat": 4,
  "nbformat_minor": 0,
  "metadata": {
    "colab": {
      "provenance": []
    },
    "kernelspec": {
      "name": "python3",
      "display_name": "Python 3"
    },
    "language_info": {
      "name": "python"
    }
  },
  "cells": [
    {
      "cell_type": "markdown",
      "source": [
        "#**Python OOPs Questions**\n"
      ],
      "metadata": {
        "id": "PUzNaW9DKH-e"
      }
    },
    {
      "cell_type": "markdown",
      "source": [
        "#Theory Question\n",
        "\n",
        "1.    What is Object-Oriented Programming (OOP)?\n",
        "      - OOP is a programming paradigm centered around \"objects\"—software entities that encapsulate data and functions (methods) that operate on that data. It models real-world or abstract entities to organize code into reusable and modular units. Key OOP languages include Python, Java, C++, and others.\n",
        "\n",
        "2.   What is a class in OOP?\n",
        "     - A class is a blueprint or template for creating objects. It defines a set of attributes (data members) and methods (functions) common to all objects of that type. Classes allow grouping of data and behaviors into a reusable structure.\n",
        "\n",
        "3.   What is an object in OOP?\n",
        "     - An object is an instance of a class. It represents a specific entity with unique attribute values and can perform behaviors defined by its class methods. Objects encapsulate state and behavior.\n",
        "\n",
        "4.   What is the difference between abstraction and encapsulation?\n",
        "     - Abstraction hides complex implementation details and shows only essential features to the user.\n",
        "     - Encapsulation restricts direct access to some of an object's components by bundling data and methods that operate on the data, often controlling access via private attributes and public methods.\n",
        "\n",
        "5.   What are dunder methods in Python?\n",
        "     - Dunder methods (double underscore methods) are special predefined methods like __init__, __str__, __repr__, __call__, etc. that provide operator overloading and custom behaviors for built-in Python operations.\n",
        "\n",
        "6.   Explain the concept of inheritance in OOP.\n",
        "     - Inheritance allows a class (child/subclass) to inherit attributes and methods from another class (parent/superclass), promoting code reuse and enabling hierarchical relationships.\n",
        "\n",
        "7.   What is polymorphism in OOP?\n",
        "     - Polymorphism allows objects of different classes to be treated as objects of a common superclass, mainly through method overriding, enabling one interface to control access to a variety of underlying forms (data types).\n",
        "\n",
        "8.   How is encapsulation achieved in Python?\n",
        "     - Encapsulation is done by using private or protected attributes (by prefixing attribute names with underscores) and exposing public methods (getters/setters) to manipulate these attributes.\n",
        "\n",
        "9.   What is a constructor in Python?\n",
        "     - A constructor is the special method __init__ used to initialize new  objects of a class with default or provided attribute values when the object is created.\n",
        "\n",
        "10.  What are class and static methods in Python?\n",
        "     - A class method (decorated with @classmethod) takes the class as the first parameter and can modify class state.\n",
        "     - A static method (decorated with @staticmethod) does not take the instance or class as mandatory parameters and behaves like a regular function within class scope.\n",
        "\n",
        "11.  What is method overloading in Python?\n",
        "     - Python does not support traditional method overloading; it allows defining methods that accept variable numbers of arguments or use default values to achieve similar flexibility.\n",
        "\n",
        "12.  What is method overriding in OOP?\n",
        "     - Method overriding occurs when a subclass provides a specific implementation of a method already defined in its superclass, enabling dynamic polymorphism.\n",
        "\n",
        "13.  What is a property decorator in Python?\n",
        "     - The @property decorator in Python is used to customize getters, setters, and deleters for class attributes, enabling controlled access and modification with attribute-like syntax.\n",
        "\n",
        "14.  Why is polymorphism important in OOP?\n",
        "     - Polymorphism provides flexibility and reusability, allowing different classes to be used interchangeably through a common interface, reducing code complexity and enhancing extensibility.\n",
        "\n",
        "15.  What is an abstract class in Python?\n",
        "     - An abstract class is a class that cannot be instantiated and typically contains one or more abstract methods that must be implemented by subclasses. They are defined using the abc module.\n",
        "\n",
        "16.  What are the advantages of OOP?\n",
        "     - OOP enhances code reusability, modularity, scalability, ease of maintenance, and models complex systems naturally, aligning software design closer to real-world concepts.\n",
        "\n",
        "17.  What is the difference between a class variable and an instance variable?\n",
        "     - Class variables are shared among all instances of a class.\n",
        "     - Instance variables are unique to each object/instance, holding data specific to that object.\n",
        "\n",
        "18.  What is multiple inheritance in Python?\n",
        "     - Multiple inheritance is when a class inherits features from more than one parent class, allowing combination of behaviors but may introduce complexity like the \"diamond problem\".\n",
        "\n",
        "19.  Explain the purpose of ''__str__' and '__repr__'' methods in Python.\n",
        "     - __str__ provides a readable string representation of an object for end-users.\n",
        "     - __repr__ provides an unambiguous string representation useful for developers and debugging.\n",
        "\n",
        "20.  What is the significance of the 'super()' function in Python?\n",
        "     - super() is used to call methods from a parent class in a child class, facilitating method inheritance and enabling extension or modification of base class behavior.\n",
        "\n",
        "21.  What is the significance of the __del__ method in Python?\n",
        "     - __del__ is a destructor method that is called when an object is about to be destroyed, and it is used for cleanup actions like releasing resources .\n",
        "\n",
        "22.  What is the difference between @staticmethod and @classmethod in Python?\n",
        "     - @staticmethod defines a method that does not receive the instance or class as the first argument, while @classmethod receives the class itself as the first argument and can modify class state.\n",
        "\n",
        "23.  How does polymorphism work in Python with inheritance?\n",
        "     - Polymorphism works by allowing a subclass to override a method of its superclass so that the subclass version is used when called from an instance of the subclass, supporting dynamic method dispatch.\n",
        "\n",
        "24.  What is method chaining in Python OOP?\n",
        "     - Method chaining is a technique where multiple methods are called in a single line on an object by returning the object itself (usually via return self), enabling fluent coding style.\n",
        "\n",
        "25.  What is the purpose of the __call__ method in Python?\n",
        "     - The __call__ method allows an object to be called like a function, enabling instances to be used as callable objects with custom behavior.\n"
      ],
      "metadata": {
        "id": "GRA2tfwkKCLL"
      }
    },
    {
      "cell_type": "markdown",
      "source": [
        "#PRACTICAL QUESTIONS"
      ],
      "metadata": {
        "id": "-Wv26KC9MfoZ"
      }
    },
    {
      "cell_type": "code",
      "execution_count": 29,
      "metadata": {
        "colab": {
          "base_uri": "https://localhost:8080/"
        },
        "id": "o_xq7p7XKBc6",
        "outputId": "1531b020-94c1-4116-8027-eedfd7bca68e"
      },
      "outputs": [
        {
          "output_type": "stream",
          "name": "stdout",
          "text": [
            "This animal makes a sound.\n",
            "Bark!\n"
          ]
        }
      ],
      "source": [
        "# 1. Create a parent class Animal with a method speak() that prints a generic message. Create a child class Dog that overrides the speak() method to print \"Bark!\".\n",
        "\n",
        "class Animal:\n",
        "    def speak(self):\n",
        "        print(\"This animal makes a sound.\")\n",
        "\n",
        "class Dog(Animal):\n",
        "    def speak(self):\n",
        "        print(\"Bark!\")\n",
        "\n",
        "a = Animal()\n",
        "a.speak()\n",
        "d = Dog()\n",
        "d.speak()\n",
        "\n"
      ]
    },
    {
      "cell_type": "code",
      "source": [
        "# 2. Write a program to create an abstract class Shape with a method area(). Derive classes Circle and Rectangle from it and implement the area() method in both.\n",
        "\n",
        "from abc import ABC, abstractmethod\n",
        "import math\n",
        "\n",
        "class Shape(ABC):\n",
        "    @abstractmethod\n",
        "    def area(self):\n",
        "        pass\n",
        "\n",
        "class Circle(Shape):\n",
        "    def __init__(self, radius):\n",
        "        self.radius = radius\n",
        "\n",
        "    def area(self):\n",
        "        return math.pi * (self.radius ** 2)\n",
        "\n",
        "class Rectangle(Shape):\n",
        "    def __init__(self, width, height):\n",
        "        self.width = width\n",
        "        self.height = height\n",
        "\n",
        "    def area(self):\n",
        "        return self.width * self.height\n",
        "\n",
        "# Usage\n",
        "c = Circle(5)\n",
        "print(\"Circle area:\", c.area())\n",
        "r = Rectangle(4, 6)\n",
        "print(\"Rectangle area:\", r.area())\n"
      ],
      "metadata": {
        "colab": {
          "base_uri": "https://localhost:8080/"
        },
        "id": "6yojYoc4Pok4",
        "outputId": "ae1f3c3f-81b8-4798-b246-2eaf02e87217"
      },
      "execution_count": 30,
      "outputs": [
        {
          "output_type": "stream",
          "name": "stdout",
          "text": [
            "Circle area: 78.53981633974483\n",
            "Rectangle area: 24\n"
          ]
        }
      ]
    },
    {
      "cell_type": "code",
      "source": [
        "# 3. Implement a multi-level inheritance scenario where a class Vehicle has an attribute type. Derive a class Car and further derive a class ElectricCar that adds a battery attribute.\n",
        "\n",
        "class Vehicle:\n",
        "    def __init__(self, type):\n",
        "        self.type = type\n",
        "\n",
        "class Car(Vehicle):\n",
        "    def __init__(self, type, brand):\n",
        "        super().__init__(type)\n",
        "        self.brand = brand\n",
        "\n",
        "class ElectricCar(Car):\n",
        "    def __init__(self, type, brand, battery):\n",
        "        super().__init__(type, brand)\n",
        "        self.battery = battery\n",
        "\n",
        "ecar = ElectricCar(\"Four-wheeler\", \"Tesla\", \"100 kWh\")\n",
        "print(ecar.type, ecar.brand, ecar.battery)\n"
      ],
      "metadata": {
        "colab": {
          "base_uri": "https://localhost:8080/"
        },
        "id": "YHzHCnE_PoYW",
        "outputId": "3b106ed7-4cf2-4a08-d69d-02314346eec9"
      },
      "execution_count": 31,
      "outputs": [
        {
          "output_type": "stream",
          "name": "stdout",
          "text": [
            "Four-wheeler Tesla 100 kWh\n"
          ]
        }
      ]
    },
    {
      "cell_type": "code",
      "source": [
        "#4. Demonstrate polymorphism by creating a base class Bird with a method fly(). Create two derived classes Sparrow and Penguin that override the fly() method.\n",
        "\n",
        "class Bird:\n",
        "    def fly(self):\n",
        "        print(\"Some birds can fly.\")\n",
        "\n",
        "class Sparrow(Bird):\n",
        "    def fly(self):\n",
        "        print(\"Sparrow flies high.\")\n",
        "\n",
        "class Penguin(Bird):\n",
        "    def fly(self):\n",
        "        print(\"Penguins can't fly but can swim.\")\n",
        "\n",
        "\n",
        "birds = [Sparrow(), Penguin()]\n",
        "for bird in birds:\n",
        "    bird.fly()\n"
      ],
      "metadata": {
        "colab": {
          "base_uri": "https://localhost:8080/"
        },
        "id": "HlrqSScsPoMY",
        "outputId": "e6265ba8-f865-42ed-df23-0ae9e1b41115"
      },
      "execution_count": 32,
      "outputs": [
        {
          "output_type": "stream",
          "name": "stdout",
          "text": [
            "Sparrow flies high.\n",
            "Penguins can't fly but can swim.\n"
          ]
        }
      ]
    },
    {
      "cell_type": "code",
      "source": [
        "# 5. Write a program to demonstrate encapsulation by creating a class BankAccount with private attributes balance and methods to deposit, withdraw, and check balance\n",
        "\n",
        "class BankAccount:\n",
        "    def __init__(self, initial_balance=0):\n",
        "        self.__balance = initial_balance\n",
        "\n",
        "    def deposit(self, amount):\n",
        "        if amount > 0:\n",
        "            self.__balance += amount\n",
        "\n",
        "    def withdraw(self, amount):\n",
        "        if 0 < amount <= self.__balance:\n",
        "            self.__balance -= amount\n",
        "        else:\n",
        "            print(\"Insufficient funds or invalid amount\")\n",
        "\n",
        "    def get_balance(self):\n",
        "        return self.__balance\n",
        "\n",
        "account = BankAccount(100)\n",
        "account.deposit(50)\n",
        "account.withdraw(30)\n",
        "print(\"Balance:\", account.get_balance())\n"
      ],
      "metadata": {
        "colab": {
          "base_uri": "https://localhost:8080/"
        },
        "id": "wo4g1Ly0Pn-2",
        "outputId": "8fdc786a-144f-46d6-a488-e28c5093956f"
      },
      "execution_count": 33,
      "outputs": [
        {
          "output_type": "stream",
          "name": "stdout",
          "text": [
            "Balance: 120\n"
          ]
        }
      ]
    },
    {
      "cell_type": "code",
      "source": [
        "# 6. Demonstrate runtime polymorphism using a method play() in a base class Instrument. Derive classes Guitar and Piano that implement their own version of play().\n",
        "\n",
        "class Instrument:\n",
        "    def play(self):\n",
        "        print(\"Playing some instrument sound.\")\n",
        "\n",
        "class Guitar(Instrument):\n",
        "    def play(self):\n",
        "        print(\"Playing guitar chords.\")\n",
        "\n",
        "class Piano(Instrument):\n",
        "    def play(self):\n",
        "        print(\"Playing piano melodies.\")\n",
        "\n",
        "instruments = [Guitar(), Piano()]\n",
        "for instrument in instruments:\n",
        "    instrument.play()\n"
      ],
      "metadata": {
        "colab": {
          "base_uri": "https://localhost:8080/"
        },
        "id": "mH-fpwATPnvq",
        "outputId": "52b92c0e-b797-4af9-b6e1-d6fe0993a532"
      },
      "execution_count": 34,
      "outputs": [
        {
          "output_type": "stream",
          "name": "stdout",
          "text": [
            "Playing guitar chords.\n",
            "Playing piano melodies.\n"
          ]
        }
      ]
    },
    {
      "cell_type": "code",
      "source": [
        "# 7. Create a class MathOperations with a class method add_numbers() to add two numbers and a static method subtract_numbers() to subtract two numbers.\n",
        "\n",
        "class MathOperations:\n",
        "    @classmethod\n",
        "    def add_numbers(cls, a, b):\n",
        "        return a + b\n",
        "\n",
        "    @staticmethod\n",
        "    def subtract_numbers(a, b):\n",
        "        return a - b\n",
        "\n",
        "print(\"Add:\", MathOperations.add_numbers(10, 5))\n",
        "print(\"Subtract:\", MathOperations.subtract_numbers(10, 5))\n"
      ],
      "metadata": {
        "colab": {
          "base_uri": "https://localhost:8080/"
        },
        "id": "fnWJylAhPngJ",
        "outputId": "65bd90f8-a98e-428c-817d-349b95fd978d"
      },
      "execution_count": 35,
      "outputs": [
        {
          "output_type": "stream",
          "name": "stdout",
          "text": [
            "Add: 15\n",
            "Subtract: 5\n"
          ]
        }
      ]
    },
    {
      "cell_type": "code",
      "source": [
        "# 8. Implement a class Person with a class method to count the total number of persons created.\n",
        "\n",
        "class Person:\n",
        "    count = 0\n",
        "\n",
        "    def __init__(self, name):\n",
        "        self.name = name\n",
        "        Person.count += 1\n",
        "\n",
        "    @classmethod\n",
        "    def total_persons(cls):\n",
        "        return cls.count\n",
        "\n",
        "p1 = Person(\"harshali\")\n",
        "p2 = Person(\"anushree\")\n",
        "print(\"Total persons created:\", Person.total_persons())\n"
      ],
      "metadata": {
        "colab": {
          "base_uri": "https://localhost:8080/"
        },
        "id": "F_YxZieTPnR3",
        "outputId": "db814aa1-18b5-4783-a2ff-b21e9988651f"
      },
      "execution_count": 36,
      "outputs": [
        {
          "output_type": "stream",
          "name": "stdout",
          "text": [
            "Total persons created: 2\n"
          ]
        }
      ]
    },
    {
      "cell_type": "code",
      "source": [
        "# 9. Write a class Fraction with attributes numerator and denominator. Override the str method to display the fraction as \"numerator/denominator\".\n",
        "\n",
        "class Fraction:\n",
        "    def __init__(self, numerator, denominator):\n",
        "        self.numerator = numerator\n",
        "        self.denominator = denominator\n",
        "\n",
        "    def __str__(self):\n",
        "        return f\"{self.numerator}/{self.denominator}\"\n",
        "\n",
        "\n",
        "f = Fraction(3, 4)\n",
        "print(\"Fraction:\", str(f))\n"
      ],
      "metadata": {
        "colab": {
          "base_uri": "https://localhost:8080/"
        },
        "id": "DLtCZaivPnCY",
        "outputId": "3a03d538-e126-487f-8eb0-3a63245876de"
      },
      "execution_count": 37,
      "outputs": [
        {
          "output_type": "stream",
          "name": "stdout",
          "text": [
            "Fraction: 3/4\n"
          ]
        }
      ]
    },
    {
      "cell_type": "code",
      "source": [
        "# 10. Demonstrate operator overloading by creating a class Vector and overriding the add method to add two vectors.\n",
        "\n",
        "class Vector:\n",
        "    def __init__(self, x, y):\n",
        "        self.x = x\n",
        "        self.y = y\n",
        "\n",
        "    def __add__(self, other):\n",
        "        return Vector(self.x + other.x, self.y + other.y)\n",
        "\n",
        "    def __str__(self):\n",
        "        return f\"Vector({self.x}, {self.y})\"\n",
        "\n",
        "v1 = Vector(1, 2)\n",
        "v2 = Vector(3, 4)\n",
        "v3 = v1 + v2\n",
        "print(v3)\n"
      ],
      "metadata": {
        "colab": {
          "base_uri": "https://localhost:8080/"
        },
        "id": "GqlPomvXPmyu",
        "outputId": "702ed5a9-c3f6-4c9a-9e41-7c315a215118"
      },
      "execution_count": 38,
      "outputs": [
        {
          "output_type": "stream",
          "name": "stdout",
          "text": [
            "Vector(4, 6)\n"
          ]
        }
      ]
    },
    {
      "cell_type": "code",
      "source": [
        "# 11. Create a class Person with attributes name and age. Add a method greet() that prints \"Hello, my name is {name} and I am {age} years old.\"\n",
        "\n",
        "class Person:\n",
        "    def __init__(self, name, age):\n",
        "        self.name = name\n",
        "        self.age = age\n",
        "\n",
        "    def greet(self):\n",
        "        print(f\"Hello, my name is {self.name} and I am {self.age} years old.\")\n",
        "\n",
        "person = Person(\"Harshali\", 20)\n",
        "person.greet()\n"
      ],
      "metadata": {
        "colab": {
          "base_uri": "https://localhost:8080/"
        },
        "id": "7yRzZdJnPmkP",
        "outputId": "08e965d9-8a14-4a30-cc63-3a2f682f9616"
      },
      "execution_count": 39,
      "outputs": [
        {
          "output_type": "stream",
          "name": "stdout",
          "text": [
            "Hello, my name is Harshali and I am 20 years old.\n"
          ]
        }
      ]
    },
    {
      "cell_type": "code",
      "source": [
        "# 12. Implement a class Student with attributes name and grades. Create a method average_grade() to compute the average of the grades.\n",
        "\n",
        "class Student:\n",
        "    def __init__(self, name, grades):\n",
        "        self.name = name\n",
        "        self.grades = grades\n",
        "\n",
        "    def average_grade(self):\n",
        "        if not self.grades:\n",
        "            return 0\n",
        "        return sum(self.grades) / len(self.grades)\n",
        "\n",
        "student = Student(\"Alice\", [85, 90, 78])\n",
        "print(f\"{student.name}'s average grade:\", student.average_grade())\n"
      ],
      "metadata": {
        "colab": {
          "base_uri": "https://localhost:8080/"
        },
        "id": "cAI9XOBkPmWu",
        "outputId": "5b593982-1ff5-4a46-abcf-860cce272ba9"
      },
      "execution_count": 40,
      "outputs": [
        {
          "output_type": "stream",
          "name": "stdout",
          "text": [
            "Alice's average grade: 84.33333333333333\n"
          ]
        }
      ]
    },
    {
      "cell_type": "code",
      "source": [
        "# 13. Create a class Rectangle with methods set_dimensions() to set the dimensions and area() to calculate the area.\n",
        "\n",
        "class Rectangle:\n",
        "    def __init__(self):\n",
        "        self.width = 0\n",
        "        self.height = 0\n",
        "\n",
        "    def set_dimensions(self, width, height):\n",
        "        self.width = width\n",
        "        self.height = height\n",
        "\n",
        "    def area(self):\n",
        "        return self.width * self.height\n",
        "\n",
        "rect = Rectangle()\n",
        "rect.set_dimensions(5, 10)\n",
        "print(\"Rectangle area:\", rect.area())\n"
      ],
      "metadata": {
        "colab": {
          "base_uri": "https://localhost:8080/"
        },
        "id": "aGjfdQzsPmKY",
        "outputId": "9c8c752f-d47e-41a0-9d0e-8a5041be04f9"
      },
      "execution_count": 41,
      "outputs": [
        {
          "output_type": "stream",
          "name": "stdout",
          "text": [
            "Rectangle area: 50\n"
          ]
        }
      ]
    },
    {
      "cell_type": "code",
      "source": [
        "# 14. Create a class Employee with a method calculate_salary() that computes the salary based on hours worked and hourly rate. Create a derived class Manager that adds a bonus to the salary.\n",
        "\n",
        "class Employee:\n",
        "    def __init__(self, name, hourly_rate):\n",
        "        self.name = name\n",
        "        self.hourly_rate = hourly_rate\n",
        "\n",
        "    def calculate_salary(self, hours_worked):\n",
        "        return hours_worked * self.hourly_rate\n",
        "\n",
        "class Manager(Employee):\n",
        "    def __init__(self, name, hourly_rate, bonus):\n",
        "        super().__init__(name, hourly_rate)\n",
        "        self.bonus = bonus\n",
        "\n",
        "    def calculate_salary(self, hours_worked):\n",
        "        base_salary = super().calculate_salary(hours_worked)\n",
        "        return base_salary + self.bonus\n",
        "\n",
        "emp = Employee(\"harshali\", 20)\n",
        "mgr = Manager(\"Anushree\", 30, 500)\n",
        "print(f\"{emp.name} Salary:\", emp.calculate_salary(40))\n",
        "print(f\"{mgr.name} Salary:\", mgr.calculate_salary(40))\n"
      ],
      "metadata": {
        "colab": {
          "base_uri": "https://localhost:8080/"
        },
        "id": "LYVxOVfJPl7G",
        "outputId": "7f1d058c-de12-4a05-aa15-101b46c00af5"
      },
      "execution_count": 42,
      "outputs": [
        {
          "output_type": "stream",
          "name": "stdout",
          "text": [
            "harshali Salary: 800\n",
            "Anushree Salary: 1700\n"
          ]
        }
      ]
    },
    {
      "cell_type": "code",
      "source": [
        "# 15. Create a class Product with attributes name, price, and quantity. Implement a method total_price() that calculates the total price of the product.\n",
        "\n",
        "class Product:\n",
        "    def __init__(self, name, price, quantity):\n",
        "        self.name = name\n",
        "        self.price = price\n",
        "        self.quantity = quantity\n",
        "\n",
        "    def total_price(self):\n",
        "        return self.price * self.quantity\n",
        "\n",
        "prod = Product(\"Laptop\", 900000, 3)\n",
        "print(\"Total price:\", prod.total_price())\n"
      ],
      "metadata": {
        "colab": {
          "base_uri": "https://localhost:8080/"
        },
        "id": "57u9MfQlPlrv",
        "outputId": "78792f78-0c02-4123-a248-2b56a063333b"
      },
      "execution_count": 43,
      "outputs": [
        {
          "output_type": "stream",
          "name": "stdout",
          "text": [
            "Total price: 2700000\n"
          ]
        }
      ]
    },
    {
      "cell_type": "code",
      "source": [
        "# 16. Create a class Animal with an abstract method sound(). Create two derived classes Cow and Sheep that implement the sound() method.\n",
        "\n",
        "from abc import ABC, abstractmethod\n",
        "\n",
        "class Animal(ABC):\n",
        "    @abstractmethod\n",
        "    def sound(self):\n",
        "        pass\n",
        "\n",
        "class Cow(Animal):\n",
        "    def sound(self):\n",
        "        return \"Moo\"\n",
        "\n",
        "class Sheep(Animal):\n",
        "    def sound(self):\n",
        "        return \"Baa\"\n",
        "\n",
        "cow = Cow()\n",
        "sheep = Sheep()\n",
        "print(cow.sound())\n",
        "print(sheep.sound())\n"
      ],
      "metadata": {
        "colab": {
          "base_uri": "https://localhost:8080/"
        },
        "id": "AM0LgIwhPlcD",
        "outputId": "6bb68a7c-b8f5-4bea-9a2a-aae1b5387e76"
      },
      "execution_count": 44,
      "outputs": [
        {
          "output_type": "stream",
          "name": "stdout",
          "text": [
            "Moo\n",
            "Baa\n"
          ]
        }
      ]
    },
    {
      "cell_type": "code",
      "source": [
        "# 17. Create a class Book with attributes title, author, and year_published. Add a method get_book_info() that returns a formatted string with the book's details.\n",
        "\n",
        "class Book:\n",
        "    def __init__(self, title, author, year_published):\n",
        "        self.title = title\n",
        "        self.author = author\n",
        "        self.year_published = year_published\n",
        "\n",
        "    def get_book_info(self):\n",
        "        return f\"'{self.title}' by {self.author}, published in {self.year_published}\"\n",
        "\n",
        "book = Book(\"Build don't talk\", \"Raj Shamani\", 2022)\n",
        "print(book.get_book_info())\n"
      ],
      "metadata": {
        "colab": {
          "base_uri": "https://localhost:8080/"
        },
        "id": "SmFSTQT1PlMO",
        "outputId": "f5d2a706-9537-410a-f049-36f9f340a535"
      },
      "execution_count": 45,
      "outputs": [
        {
          "output_type": "stream",
          "name": "stdout",
          "text": [
            "'Build don't talk' by Raj Shamani, published in 2022\n"
          ]
        }
      ]
    },
    {
      "cell_type": "code",
      "source": [
        "# 18. Create a class House with attributes address and price. Create a derived class Mansion that adds an attribute number_of_rooms.\n",
        "\n",
        "class House:\n",
        "    def __init__(self, address, price):\n",
        "        self.address = address\n",
        "        self.price = price\n",
        "\n",
        "class Mansion(House):\n",
        "    def __init__(self, address, price, number_of_rooms):\n",
        "        super().__init__(address, price)\n",
        "        self.number_of_rooms = number_of_rooms\n",
        "\n",
        "mansion = Mansion(\"123 Jawahar Nagar Dewas \", 2000000, 10)\n",
        "print(mansion.address , \",\" ,mansion.price , \",\", mansion.number_of_rooms)\n"
      ],
      "metadata": {
        "colab": {
          "base_uri": "https://localhost:8080/"
        },
        "id": "L0iXMYulPk7A",
        "outputId": "7d59be8e-e870-4629-eb1d-c0bcd2e47f03"
      },
      "execution_count": 46,
      "outputs": [
        {
          "output_type": "stream",
          "name": "stdout",
          "text": [
            "123 Jawahar Nagar Dewas  , 2000000 , 10\n"
          ]
        }
      ]
    }
  ]
}